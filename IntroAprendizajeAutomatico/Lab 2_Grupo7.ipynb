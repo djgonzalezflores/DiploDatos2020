{
 "cells": [
  {
   "cell_type": "markdown",
   "metadata": {},
   "source": [
    "# Laboratorio 2: Armado de un esquema de aprendizaje automático\n",
    "\n",
    "En el laboratorio final se espera que puedan poner en práctica los conocimientos adquiridos en el curso, trabajando con un conjunto de datos de clasificación.\n",
    "\n",
    "El objetivo es que se introduzcan en el desarrollo de un esquema para hacer tareas de aprendizaje automático: selección de un modelo, ajuste de hiperparámetros y evaluación.\n",
    "\n",
    "El conjunto de datos a utilizar está en `./data/loan_data.csv`. Si abren el archivo verán que al principio (las líneas que empiezan con `#`) describen el conjunto de datos y sus atributos (incluyendo el atributo de etiqueta o clase).\n",
    "\n",
    "Se espera que hagan uso de las herramientas vistas en el curso. Se espera que hagan uso especialmente de las herramientas brindadas por `scikit-learn`."
   ]
  },
  {
   "cell_type": "code",
   "execution_count": 570,
   "metadata": {},
   "outputs": [],
   "source": [
    "import numpy as np\n",
    "import pandas as pd\n",
    "import matplotlib.pyplot as plt\n",
    "import seaborn as sb\n",
    "import warnings\n",
    "\n",
    "\n",
    "#declaracion de Librerias para modelos\n",
    "\n",
    "# helpers\n",
    "from sklearn.model_selection import train_test_split\n",
    "from sklearn.preprocessing import StandardScaler\n",
    "from sklearn.metrics import confusion_matrix\n",
    "from sklearn.model_selection import GridSearchCV, StratifiedKFold\n",
    "\n",
    "from utils import plot_confusion_matrix\n",
    "from sklearn.tree import plot_tree\n",
    "\n",
    "\n",
    "# modelos\n",
    "from sklearn.linear_model import SGDClassifier\n",
    "from sklearn.tree import DecisionTreeClassifier\n",
    "\n",
    "# clases de metricas\n",
    "from sklearn.metrics import accuracy_score\n",
    "from sklearn.metrics import precision_score\n",
    "from sklearn.metrics import recall_score\n",
    "from sklearn.metrics import f1_score\n",
    "from sklearn.metrics import classification_report\n"
   ]
  },
  {
   "cell_type": "code",
   "execution_count": 571,
   "metadata": {},
   "outputs": [],
   "source": [
    "pd.options.display.float_format = '{:.4f}'.format"
   ]
  },
  {
   "cell_type": "code",
   "execution_count": 572,
   "metadata": {},
   "outputs": [],
   "source": [
    "warnings.filterwarnings('ignore')"
   ]
  },
  {
   "cell_type": "markdown",
   "metadata": {},
   "source": [
    "## Carga de datos y división en entrenamiento y evaluación\n",
    "\n",
    "La celda siguiente se encarga de la carga de datos (haciendo uso de pandas). Estos serán los que se trabajarán en el resto del laboratorio."
   ]
  },
  {
   "cell_type": "markdown",
   "metadata": {},
   "source": [
    "\n",
    "Documentación:\n",
    "\n",
    "- https://scikit-learn.org/stable/modules/generated/sklearn.model_selection.train_test_split.html"
   ]
  },
  {
   "cell_type": "markdown",
   "metadata": {},
   "source": [
    "## Ejercicio 1: Descripción de los Datos y la Tarea\n",
    "\n",
    "Responder las siguientes preguntas:\n",
    "\n",
    "\n",
    "\n",
    "**No hace falta escribir código para responder estas preguntas.**"
   ]
  },
  {
   "cell_type": "markdown",
   "metadata": {},
   "source": [
    "**1. ¿De qué se trata el conjunto de datos?**"
   ]
  },
  {
   "cell_type": "markdown",
   "metadata": {},
   "source": [
    "**Contexto**\n",
    "\n",
    "*El departamento de crédito al consumidor de un banco desea automatizar el proceso de toma de decisiones para la aprobación de líneas de crédito con garantía hipotecaria. Para hacer esto, seguirán las recomendaciones de la Ley de Igualdad de Oportunidades de Crédito para crear un modelo de calificación crediticia empíricamente derivado y estadísticamente sólido.*\n",
    "\n",
    "*El modelo se basará en datos recopilados de solicitantes recientes a los que se les otorgó crédito a través del proceso actual de suscripción de préstamos. El modelo se construirá a partir de herramientas de modelado predictivo, pero el modelo creado debe ser lo suficientemente interpretable para proporcionar una razón para las acciones adversas (rechazos)*\n",
    "\n",
    "**Descripción**\n",
    "\n",
    "*El conjunto de datos contiene información de referencia y de rendimiento de préstamos de 5.960 préstamos sobre el valor neto de la vivienda recientes. Un préstamo con garantía hipotecaria es un préstamo en el que el deudor utiliza la garantía hipotecaria de su casa como garantía subyacente. El objetivo (TARGET) es una variable binaria que indica si un solicitante eventualmente incurrió en incumplimiento o en grave mora. Este resultado adverso se produjo en 1.189 casos (20%).*\n",
    "\n",
    "*(referencia: https://www.kaggle.com/ajay1735/hmeq-data )*"
   ]
  },
  {
   "cell_type": "markdown",
   "metadata": {},
   "source": [
    "**2. ¿Cuál es la variable objetivo que hay que predecir? ¿Qué significado tiene?**"
   ]
  },
  {
   "cell_type": "markdown",
   "metadata": {},
   "source": [
    "*La variable a predicir es \"Target\" el cual indica si el solicitante puede cumplir con el pago del préstamo o incurrirá en una mora.*\n",
    "\n",
    "*El valor = 0 indica que puede pagar el préstamo solicitado*\n",
    "*El valor = 1 indica que el solicitante puede incurrir en un no pago o entrar en mora.*\n"
   ]
  },
  {
   "cell_type": "markdown",
   "metadata": {},
   "source": [
    "**3. ¿Qué información (atributos) hay disponible para hacer la predicción?**"
   ]
  },
  {
   "cell_type": "markdown",
   "metadata": {},
   "source": [
    "*Los atributos (features) disponibles para predicción en el set de datos son:*\n",
    "\n",
    "\n",
    "   - LOAN= el monto del crédito solicitado.\n",
    "   - MORTDUE= el monto adeudado por una hipoteca existente.\n",
    "   - VALUE= el valor actual de la propiedad\n",
    "   - YOJ= la antigüedad en el trabajo actual\n",
    "   - DEROG= la cantidad de informes relacionados a irregularidades en el pago\n",
    "   - DELINQ= número de líneas de crédito morosas\n",
    "   - CLAGE= antigüedad de la primer línea de crédito (en meses)\n",
    "   - NING= cantidad de líneas de crédito recientes\n",
    "   - CLNO= cantidad total de líneas de crédito\n",
    "   - DEBTINC= relación entre deuda e ingresos del solicitante"
   ]
  },
  {
   "cell_type": "markdown",
   "metadata": {},
   "source": [
    "**4. ¿Qué atributos imagina ud. que son los más determinantes para la predicción?**"
   ]
  },
  {
   "cell_type": "markdown",
   "metadata": {},
   "source": [
    "*Los atributos que se consideran mas determinantes para predicción son:*\n",
    "\n",
    "  - LOAN, el monto del crédito solicitado.\n",
    "  - MORTDUE, el monto adeudado por una hipoteca existente.\n",
    "  - DELINQ, número de líneas de crédito morosas\n",
    "  - DEBTINC,  relación entre deuda e ingresos del solicitante\n",
    "  - YOJ, a antigüedad en el trabajo actual\n"
   ]
  },
  {
   "cell_type": "markdown",
   "metadata": {},
   "source": [
    "## Ejercicio 2: Predicción con Modelos Lineales\n",
    "\n",
    "En este ejercicio se entrenarán modelos lineales de clasificación para predecir la variable objetivo.\n",
    "\n",
    "Para ello, deberán utilizar la clase SGDClassifier de scikit-learn.\n",
    "\n",
    "Documentación:\n",
    "- https://scikit-learn.org/stable/modules/sgd.html\n",
    "- https://scikit-learn.org/stable/modules/generated/sklearn.linear_model.SGDClassifier.html\n"
   ]
  },
  {
   "cell_type": "code",
   "execution_count": 288,
   "metadata": {},
   "outputs": [],
   "source": [
    "#cargamos el dataset\n",
    "dataset = pd.read_csv(\"./data/loan_data.csv\", comment=\"#\")"
   ]
  },
  {
   "cell_type": "markdown",
   "metadata": {},
   "source": [
    "**Revisión de los datos y verificación de outliers**"
   ]
  },
  {
   "cell_type": "code",
   "execution_count": 289,
   "metadata": {},
   "outputs": [
    {
     "data": {
      "text/html": [
       "<div>\n",
       "<style scoped>\n",
       "    .dataframe tbody tr th:only-of-type {\n",
       "        vertical-align: middle;\n",
       "    }\n",
       "\n",
       "    .dataframe tbody tr th {\n",
       "        vertical-align: top;\n",
       "    }\n",
       "\n",
       "    .dataframe thead th {\n",
       "        text-align: right;\n",
       "    }\n",
       "</style>\n",
       "<table border=\"1\" class=\"dataframe\">\n",
       "  <thead>\n",
       "    <tr style=\"text-align: right;\">\n",
       "      <th></th>\n",
       "      <th>TARGET</th>\n",
       "      <th>LOAN</th>\n",
       "      <th>MORTDUE</th>\n",
       "      <th>VALUE</th>\n",
       "      <th>YOJ</th>\n",
       "      <th>DEROG</th>\n",
       "      <th>DELINQ</th>\n",
       "      <th>CLAGE</th>\n",
       "      <th>NINQ</th>\n",
       "      <th>CLNO</th>\n",
       "      <th>DEBTINC</th>\n",
       "    </tr>\n",
       "  </thead>\n",
       "  <tbody>\n",
       "    <tr>\n",
       "      <th>count</th>\n",
       "      <td>1854.000000</td>\n",
       "      <td>1854.000000</td>\n",
       "      <td>1854.000000</td>\n",
       "      <td>1854.000000</td>\n",
       "      <td>1854.000000</td>\n",
       "      <td>1854.000000</td>\n",
       "      <td>1854.000000</td>\n",
       "      <td>1854.000000</td>\n",
       "      <td>1854.000000</td>\n",
       "      <td>1854.000000</td>\n",
       "      <td>1854.000000</td>\n",
       "    </tr>\n",
       "    <tr>\n",
       "      <th>mean</th>\n",
       "      <td>0.166667</td>\n",
       "      <td>19111.758360</td>\n",
       "      <td>76316.051780</td>\n",
       "      <td>107321.088457</td>\n",
       "      <td>8.900216</td>\n",
       "      <td>0.187702</td>\n",
       "      <td>0.319849</td>\n",
       "      <td>180.300783</td>\n",
       "      <td>1.128910</td>\n",
       "      <td>21.857066</td>\n",
       "      <td>34.573408</td>\n",
       "    </tr>\n",
       "    <tr>\n",
       "      <th>std</th>\n",
       "      <td>0.372779</td>\n",
       "      <td>11000.345961</td>\n",
       "      <td>46227.026585</td>\n",
       "      <td>56039.685066</td>\n",
       "      <td>7.552677</td>\n",
       "      <td>0.704882</td>\n",
       "      <td>0.928452</td>\n",
       "      <td>84.838308</td>\n",
       "      <td>1.664555</td>\n",
       "      <td>9.510840</td>\n",
       "      <td>9.308794</td>\n",
       "    </tr>\n",
       "    <tr>\n",
       "      <th>min</th>\n",
       "      <td>0.000000</td>\n",
       "      <td>1700.000000</td>\n",
       "      <td>5627.000000</td>\n",
       "      <td>21144.000000</td>\n",
       "      <td>0.000000</td>\n",
       "      <td>0.000000</td>\n",
       "      <td>0.000000</td>\n",
       "      <td>0.486711</td>\n",
       "      <td>0.000000</td>\n",
       "      <td>0.000000</td>\n",
       "      <td>0.838118</td>\n",
       "    </tr>\n",
       "    <tr>\n",
       "      <th>25%</th>\n",
       "      <td>0.000000</td>\n",
       "      <td>12000.000000</td>\n",
       "      <td>48984.750000</td>\n",
       "      <td>70787.250000</td>\n",
       "      <td>3.000000</td>\n",
       "      <td>0.000000</td>\n",
       "      <td>0.000000</td>\n",
       "      <td>116.970718</td>\n",
       "      <td>0.000000</td>\n",
       "      <td>16.000000</td>\n",
       "      <td>29.427210</td>\n",
       "    </tr>\n",
       "    <tr>\n",
       "      <th>50%</th>\n",
       "      <td>0.000000</td>\n",
       "      <td>17000.000000</td>\n",
       "      <td>67201.000000</td>\n",
       "      <td>94198.000000</td>\n",
       "      <td>7.000000</td>\n",
       "      <td>0.000000</td>\n",
       "      <td>0.000000</td>\n",
       "      <td>174.967815</td>\n",
       "      <td>1.000000</td>\n",
       "      <td>21.000000</td>\n",
       "      <td>35.363407</td>\n",
       "    </tr>\n",
       "    <tr>\n",
       "      <th>75%</th>\n",
       "      <td>0.000000</td>\n",
       "      <td>23900.000000</td>\n",
       "      <td>93731.500000</td>\n",
       "      <td>122976.250000</td>\n",
       "      <td>13.000000</td>\n",
       "      <td>0.000000</td>\n",
       "      <td>0.000000</td>\n",
       "      <td>232.261800</td>\n",
       "      <td>2.000000</td>\n",
       "      <td>27.000000</td>\n",
       "      <td>39.357987</td>\n",
       "    </tr>\n",
       "    <tr>\n",
       "      <th>max</th>\n",
       "      <td>1.000000</td>\n",
       "      <td>89800.000000</td>\n",
       "      <td>399412.000000</td>\n",
       "      <td>512650.000000</td>\n",
       "      <td>41.000000</td>\n",
       "      <td>10.000000</td>\n",
       "      <td>10.000000</td>\n",
       "      <td>1168.233561</td>\n",
       "      <td>13.000000</td>\n",
       "      <td>65.000000</td>\n",
       "      <td>144.189001</td>\n",
       "    </tr>\n",
       "  </tbody>\n",
       "</table>\n",
       "</div>"
      ],
      "text/plain": [
       "            TARGET          LOAN        MORTDUE          VALUE          YOJ  \\\n",
       "count  1854.000000   1854.000000    1854.000000    1854.000000  1854.000000   \n",
       "mean      0.166667  19111.758360   76316.051780  107321.088457     8.900216   \n",
       "std       0.372779  11000.345961   46227.026585   56039.685066     7.552677   \n",
       "min       0.000000   1700.000000    5627.000000   21144.000000     0.000000   \n",
       "25%       0.000000  12000.000000   48984.750000   70787.250000     3.000000   \n",
       "50%       0.000000  17000.000000   67201.000000   94198.000000     7.000000   \n",
       "75%       0.000000  23900.000000   93731.500000  122976.250000    13.000000   \n",
       "max       1.000000  89800.000000  399412.000000  512650.000000    41.000000   \n",
       "\n",
       "             DEROG       DELINQ        CLAGE         NINQ         CLNO  \\\n",
       "count  1854.000000  1854.000000  1854.000000  1854.000000  1854.000000   \n",
       "mean      0.187702     0.319849   180.300783     1.128910    21.857066   \n",
       "std       0.704882     0.928452    84.838308     1.664555     9.510840   \n",
       "min       0.000000     0.000000     0.486711     0.000000     0.000000   \n",
       "25%       0.000000     0.000000   116.970718     0.000000    16.000000   \n",
       "50%       0.000000     0.000000   174.967815     1.000000    21.000000   \n",
       "75%       0.000000     0.000000   232.261800     2.000000    27.000000   \n",
       "max      10.000000    10.000000  1168.233561    13.000000    65.000000   \n",
       "\n",
       "           DEBTINC  \n",
       "count  1854.000000  \n",
       "mean     34.573408  \n",
       "std       9.308794  \n",
       "min       0.838118  \n",
       "25%      29.427210  \n",
       "50%      35.363407  \n",
       "75%      39.357987  \n",
       "max     144.189001  "
      ]
     },
     "execution_count": 289,
     "metadata": {},
     "output_type": "execute_result"
    }
   ],
   "source": [
    "dataset.describe()"
   ]
  },
  {
   "cell_type": "code",
   "execution_count": 290,
   "metadata": {},
   "outputs": [
    {
     "name": "stdout",
     "output_type": "stream",
     "text": [
      "<class 'pandas.core.frame.DataFrame'>\n",
      "RangeIndex: 1854 entries, 0 to 1853\n",
      "Data columns (total 11 columns):\n",
      " #   Column   Non-Null Count  Dtype  \n",
      "---  ------   --------------  -----  \n",
      " 0   TARGET   1854 non-null   int64  \n",
      " 1   LOAN     1854 non-null   int64  \n",
      " 2   MORTDUE  1854 non-null   float64\n",
      " 3   VALUE    1854 non-null   float64\n",
      " 4   YOJ      1854 non-null   float64\n",
      " 5   DEROG    1854 non-null   float64\n",
      " 6   DELINQ   1854 non-null   float64\n",
      " 7   CLAGE    1854 non-null   float64\n",
      " 8   NINQ     1854 non-null   float64\n",
      " 9   CLNO     1854 non-null   float64\n",
      " 10  DEBTINC  1854 non-null   float64\n",
      "dtypes: float64(9), int64(2)\n",
      "memory usage: 159.5 KB\n"
     ]
    }
   ],
   "source": [
    "dataset.info()"
   ]
  },
  {
   "cell_type": "code",
   "execution_count": 291,
   "metadata": {},
   "outputs": [
    {
     "data": {
      "image/png": "[encoded data removed]",
      "text/plain": [
       "<Figure size 576x288 with 1 Axes>"
      ]
     },
     "metadata": {
      "needs_background": "light"
     },
     "output_type": "display_data"
    }
   ],
   "source": [
    "#verifico outliers\n",
    "\n",
    "plt.figure(figsize=(8,4))\n",
    "dataset.boxplot()\n",
    "plt.plot()\n",
    "sb.despine()"
   ]
  },
  {
   "cell_type": "code",
   "execution_count": 292,
   "metadata": {},
   "outputs": [
    {
     "data": {
      "text/plain": [
       "(34, 11)"
      ]
     },
     "execution_count": 292,
     "metadata": {},
     "output_type": "execute_result"
    }
   ],
   "source": [
    "#Filtramos registros outliers considerando 3 veces la desviación estandar para la variable MORTDUE\n",
    "\n",
    "outliers_MORTDUE = dataset[dataset.MORTDUE > (dataset.MORTDUE.mean() + 3 * dataset.MORTDUE.std())]\n",
    "outliers_MORTDUE.shape\n"
   ]
  },
  {
   "cell_type": "code",
   "execution_count": 293,
   "metadata": {},
   "outputs": [
    {
     "data": {
      "text/plain": [
       "(30, 11)"
      ]
     },
     "execution_count": 293,
     "metadata": {},
     "output_type": "execute_result"
    }
   ],
   "source": [
    "#Filtramos registros outliers considerando 3 veces la desviación estandar para la variable VALUE\n",
    "\n",
    "outliers_VALUE = dataset[dataset.VALUE > (dataset.VALUE.mean() + 3 * dataset.VALUE.std())]\n",
    "outliers_VALUE.shape\n"
   ]
  },
  {
   "cell_type": "markdown",
   "metadata": {},
   "source": [
    "**Removemos los registros outliers para que no tengan impacto en los cálculos de los modelos**\n"
   ]
  },
  {
   "cell_type": "code",
   "execution_count": 294,
   "metadata": {},
   "outputs": [],
   "source": [
    "dataset_limpio = dataset.drop(outliers_MORTDUE.index)"
   ]
  },
  {
   "cell_type": "code",
   "execution_count": 296,
   "metadata": {},
   "outputs": [],
   "source": [
    "dataset_limpio = dataset.drop(outliers_VALUE.index)\n"
   ]
  },
  {
   "cell_type": "code",
   "execution_count": 297,
   "metadata": {},
   "outputs": [
    {
     "data": {
      "text/plain": [
       "(1824, 11)"
      ]
     },
     "execution_count": 297,
     "metadata": {},
     "output_type": "execute_result"
    }
   ],
   "source": [
    "dataset_limpio.shape"
   ]
  },
  {
   "cell_type": "code",
   "execution_count": 299,
   "metadata": {},
   "outputs": [
    {
     "data": {
      "image/png": "[encoded data removed]",
      "text/plain": [
       "<Figure size 576x288 with 1 Axes>"
      ]
     },
     "metadata": {
      "needs_background": "light"
     },
     "output_type": "display_data"
    }
   ],
   "source": [
    "#verifico como quedó el data set sin ouliers\n",
    "\n",
    "plt.figure(figsize=(8,4))\n",
    "dataset_limpio.boxplot()\n",
    "plt.plot()\n",
    "sb.despine()"
   ]
  },
  {
   "cell_type": "markdown",
   "metadata": {},
   "source": [
    "### Ejercicio 2.1: SGDClassifier con hiperparámetros por defecto\n",
    "\n",
    "Entrenar y evaluar el clasificador SGDClassifier usando los valores por omisión de scikit-learn para todos los parámetros. Únicamente **fijar la semilla aleatoria** para hacer repetible el experimento.\n",
    "\n",
    "Evaluar sobre el conjunto de **entrenamiento** y sobre el conjunto de **evaluación**, reportando:\n",
    "- Accuracy\n",
    "- Precision\n",
    "- Recall\n",
    "- F1\n",
    "- matriz de confusión"
   ]
  },
  {
   "cell_type": "markdown",
   "metadata": {},
   "source": [
    "**División entre instancias y etiquetas**"
   ]
  },
  {
   "cell_type": "code",
   "execution_count": 949,
   "metadata": {},
   "outputs": [],
   "source": [
    "X, y = dataset.iloc[:, 1:], dataset.TARGET\n",
    "\n",
    "# Si se desea verificar el clasificador con las columnas más importantes\n",
    "# X = X[['LOAN','MORTDUE','YOJ','DEBTINC', 'DELINQ']]\n",
    "\n",
    "# división entre entrenamiento y evaluación (se utiliza el 80% de los datos para entrenamiento\n",
    "# y 20% para evaluación)\n",
    "\n",
    "X_train, X_test, y_train, y_test = train_test_split(X, y, test_size=0.20, random_state=0)\n"
   ]
  },
  {
   "cell_type": "markdown",
   "metadata": {},
   "source": [
    "*Cantidad de registros obtenidos de la división*"
   ]
  },
  {
   "cell_type": "code",
   "execution_count": 950,
   "metadata": {},
   "outputs": [
    {
     "data": {
      "text/plain": [
       "(1483, 371)"
      ]
     },
     "execution_count": 950,
     "metadata": {},
     "output_type": "execute_result"
    }
   ],
   "source": [
    "X_train.shape[0], X_test.shape[0]"
   ]
  },
  {
   "cell_type": "markdown",
   "metadata": {},
   "source": [
    "*Proporción de registros en train de cada clase*"
   ]
  },
  {
   "cell_type": "code",
   "execution_count": 951,
   "metadata": {},
   "outputs": [
    {
     "data": {
      "text/plain": [
       "0   0.8307\n",
       "1   0.1693\n",
       "Name: TARGET, dtype: float64"
      ]
     },
     "execution_count": 951,
     "metadata": {},
     "output_type": "execute_result"
    }
   ],
   "source": [
    "y_train.value_counts()/y_train.shape[0]\n"
   ]
  },
  {
   "cell_type": "markdown",
   "metadata": {},
   "source": [
    "*Proporcion de registros en test de cada clase*"
   ]
  },
  {
   "cell_type": "code",
   "execution_count": 1151,
   "metadata": {},
   "outputs": [
    {
     "data": {
      "text/plain": [
       "0   0.8437\n",
       "1   0.1563\n",
       "Name: TARGET, dtype: float64"
      ]
     },
     "execution_count": 1151,
     "metadata": {},
     "output_type": "execute_result"
    }
   ],
   "source": [
    "y_test.value_counts()/y_test.shape[0]\n"
   ]
  },
  {
   "cell_type": "markdown",
   "metadata": {},
   "source": [
    "**Se instancia el modelo SGDClassifier con valores de hiperparametros default**"
   ]
  },
  {
   "cell_type": "markdown",
   "metadata": {},
   "source": [
    "*El Descenso de gradiente estocástico es sensible al escalado de características, por lo que es muy recomendable escalar sus datos. Por ejemplo, escale cada atributo en el vector de entrada X a [0,1] o [-1, + 1],  o estandarícelo para que tenga media 0 y varianza 1*\n",
    "\n",
    "(referencia: https://scikit-learn.org/stable/modules/sgd.html#tips-on-practical-use)"
   ]
  },
  {
   "cell_type": "code",
   "execution_count": 953,
   "metadata": {},
   "outputs": [],
   "source": [
    "# se normalinza los datos\n",
    "\n",
    "ss = StandardScaler()\n",
    "ss.fit(X_train)\n",
    "ss.fit(X_test)\n",
    "\n",
    "X_train_norm = ss.transform(X_train)\n",
    "X_test_norm = ss.transform(X_test)"
   ]
  },
  {
   "cell_type": "code",
   "execution_count": 954,
   "metadata": {},
   "outputs": [
    {
     "data": {
      "text/plain": [
       "SGDClassifier(alpha=0.0001, average=False, class_weight=None,\n",
       "              early_stopping=False, epsilon=0.1, eta0=0.0, fit_intercept=True,\n",
       "              l1_ratio=0.15, learning_rate='optimal', loss='hinge',\n",
       "              max_iter=1000, n_iter_no_change=5, n_jobs=None, penalty='l2',\n",
       "              power_t=0.5, random_state=0, shuffle=True, tol=0.001,\n",
       "              validation_fraction=0.1, verbose=0, warm_start=False)"
      ]
     },
     "execution_count": 954,
     "metadata": {},
     "output_type": "execute_result"
    }
   ],
   "source": [
    "# instancio modelo SGDClassifier con semilla aleatoria fija en 0\n",
    "model = SGDClassifier(random_state=0)\n",
    "\n",
    "# entrenamos modelo\n",
    "model.fit(X_train_norm,y_train)"
   ]
  },
  {
   "cell_type": "markdown",
   "metadata": {},
   "source": [
    "obtenemos el valor de las etiquetas de las clases obtenidas con los datos de train"
   ]
  },
  {
   "cell_type": "code",
   "execution_count": 955,
   "metadata": {},
   "outputs": [],
   "source": [
    "y_train_pred = model.predict(X_train_norm)"
   ]
  },
  {
   "cell_type": "markdown",
   "metadata": {},
   "source": [
    "obtenemos el valor de las etiquetas de las clases obtenidas con los datos de test"
   ]
  },
  {
   "cell_type": "code",
   "execution_count": 956,
   "metadata": {},
   "outputs": [],
   "source": [
    "y_test_pred = model.predict(X_test_norm)"
   ]
  },
  {
   "cell_type": "code",
   "execution_count": 957,
   "metadata": {},
   "outputs": [
    {
     "data": {
      "text/plain": [
       "0.8652291105121294"
      ]
     },
     "execution_count": 957,
     "metadata": {},
     "output_type": "execute_result"
    }
   ],
   "source": [
    "accuracy_score(y_test, y_test_pred)"
   ]
  },
  {
   "cell_type": "markdown",
   "metadata": {},
   "source": [
    "Creamos variables de metricas de SGDClassifier con valores default\n"
   ]
  },
  {
   "cell_type": "code",
   "execution_count": 958,
   "metadata": {},
   "outputs": [],
   "source": [
    "SGDClassifier_default_train_accuracy_score = 0.0\n",
    "SGDClassifier_default_train_precision_score = 0.0\n",
    "SGDClassifier_default_train_recall_score = 0.0\n",
    "SGDClassifier_default_train_f1_score = 0.0\n",
    "\n",
    "SGDClassifier_default_test_accuracy_score = 0.0\n",
    "SGDClassifier_default_test_precision_score = 0.0\n",
    "SGDClassifier_default_test_recall_score = 0.0\n",
    "SGDClassifier_default_test_f1_score = 0.0"
   ]
  },
  {
   "cell_type": "code",
   "execution_count": 959,
   "metadata": {},
   "outputs": [],
   "source": [
    "SGDClassifier_default_train_accuracy_score = accuracy_score(y_train, y_train_pred)\n",
    "SGDClassifier_default_train_precision_score = precision_score(y_train, y_train_pred)\n",
    "SGDClassifier_default_train_recall_score = recall_score(y_train, y_train_pred)\n",
    "SGDClassifier_default_train_f1_score = f1_score(y_train, y_train_pred)\n",
    "\n",
    "SGDClassifier_default_test_accuracy_score = accuracy_score(y_test, y_test_pred)\n",
    "SGDClassifier_default_test_precision_score = precision_score(y_test, y_test_pred)\n",
    "SGDClassifier_default_test_recall_score = recall_score(y_test, y_test_pred)\n",
    "SGDClassifier_default_test_f1_score = f1_score(y_test, y_test_pred)"
   ]
  },
  {
   "cell_type": "code",
   "execution_count": 960,
   "metadata": {},
   "outputs": [
    {
     "name": "stdout",
     "output_type": "stream",
     "text": [
      "---- metricas SGDClassifier DEFAULT -----\n",
      "=========================================\n",
      "-- train_accuracy_score: 0.8651382333108564 \n",
      "-- test_accuracy_score:  0.8652291105121294 \n",
      "---------------------------------------- \n",
      "-- train_precision_score:0.6545454545454545 \n",
      "-- test_precision_score: 0.6111111111111112 \n",
      "---------------------------------------- \n",
      "-- train_recall_score:   0.4302788844621514 \n",
      "-- test_recall_score:    0.3793103448275862 \n",
      "---------------------------------------- \n",
      "-- train_f1_score:       0.5192307692307692 \n",
      "-- train_f1_score:       0.46808510638297873 \n",
      "-----------------------------------------\n"
     ]
    }
   ],
   "source": [
    "print(\"---- metricas SGDClassifier DEFAULT -----\")\n",
    "print(\"=========================================\")\n",
    "print(f\"-- train_accuracy_score: {SGDClassifier_default_train_accuracy_score} \")\n",
    "print(f\"-- test_accuracy_score:  {SGDClassifier_default_test_accuracy_score} \")\n",
    "print(\"---------------------------------------- \")\n",
    "\n",
    "print(f\"-- train_precision_score:{SGDClassifier_default_train_precision_score} \")\n",
    "print(f\"-- test_precision_score: {SGDClassifier_default_test_precision_score} \")\n",
    "print(\"---------------------------------------- \")\n",
    "\n",
    "print(f\"-- train_recall_score:   {SGDClassifier_default_train_recall_score} \")\n",
    "print(f\"-- test_recall_score:    {SGDClassifier_default_test_recall_score} \")\n",
    "print(\"---------------------------------------- \")\n",
    "\n",
    "print(f\"-- train_f1_score:       {SGDClassifier_default_train_f1_score} \")\n",
    "print(f\"-- train_f1_score:       {SGDClassifier_default_test_f1_score} \")\n",
    "      \n",
    "print(\"-----------------------------------------\")\n",
    "            \n",
    "      "
   ]
  },
  {
   "cell_type": "markdown",
   "metadata": {},
   "source": [
    "**Matriz de confusión**"
   ]
  },
  {
   "cell_type": "code",
   "execution_count": 961,
   "metadata": {},
   "outputs": [
    {
     "data": {
      "text/plain": [
       "array([[1175,   57],\n",
       "       [ 143,  108]])"
      ]
     },
     "execution_count": 961,
     "metadata": {},
     "output_type": "execute_result"
    }
   ],
   "source": [
    "# Matriz de datos de training\n",
    "cm =confusion_matrix(y_train, y_train_pred)\n",
    "cm\n"
   ]
  },
  {
   "cell_type": "code",
   "execution_count": 962,
   "metadata": {},
   "outputs": [
    {
     "data": {
      "text/plain": [
       "array([[299,  14],\n",
       "       [ 36,  22]])"
      ]
     },
     "execution_count": 962,
     "metadata": {},
     "output_type": "execute_result"
    }
   ],
   "source": [
    "# Matriz de datos de testing\n",
    "cm =confusion_matrix(y_test, y_test_pred)\n",
    "cm"
   ]
  },
  {
   "cell_type": "markdown",
   "metadata": {},
   "source": [
    "**Reporte de clasificación para datos de test**\n"
   ]
  },
  {
   "cell_type": "code",
   "execution_count": 964,
   "metadata": {},
   "outputs": [
    {
     "name": "stdout",
     "output_type": "stream",
     "text": [
      "              precision    recall  f1-score   support\n",
      "\n",
      "           0       0.89      0.96      0.92       313\n",
      "           1       0.61      0.38      0.47        58\n",
      "\n",
      "    accuracy                           0.87       371\n",
      "   macro avg       0.75      0.67      0.70       371\n",
      "weighted avg       0.85      0.87      0.85       371\n",
      "\n"
     ]
    }
   ],
   "source": [
    "print(classification_report(y_test, y_test_pred))\n"
   ]
  },
  {
   "cell_type": "markdown",
   "metadata": {},
   "source": [
    "*El clasificador con los hiperparametros por defectos tiene un presición del 84%. Clasifica muy bien la clase (0) con un buen porcentaje, pero la clase (1) no es muy confiable ya que a penena supera el 50%*"
   ]
  },
  {
   "cell_type": "markdown",
   "metadata": {},
   "source": [
    "### Ejercicio 2.2: Ajuste de Hiperparámetros\n",
    "\n",
    "Seleccionar valores para los hiperparámetros principales del SGDClassifier. Como mínimo, probar diferentes funciones de loss, tasas de entrenamiento y tasas de regularización.\n",
    "\n",
    "Para ello, usar grid-search y 5-fold cross-validation sobre el conjunto de entrenamiento para explorar muchas combinaciones posibles de valores.\n",
    "\n",
    "Reportar accuracy promedio y varianza para todas las configuraciones.\n",
    "\n",
    "Para la mejor configuración encontrada, evaluar sobre el conjunto de **entrenamiento** y sobre el conjunto de **evaluación**, reportando:\n",
    "- Accuracy\n",
    "- Precision\n",
    "- Recall\n",
    "- F1\n",
    "- matriz de confusión\n",
    "\n",
    "Documentación:\n",
    "- https://scikit-learn.org/stable/modules/grid_search.html\n",
    "- https://scikit-learn.org/stable/modules/generated/sklearn.model_selection.GridSearchCV.html"
   ]
  },
  {
   "cell_type": "markdown",
   "metadata": {},
   "source": [
    "**Definimos la lista de hiperparametros a evaluar**"
   ]
  },
  {
   "cell_type": "code",
   "execution_count": 1002,
   "metadata": {},
   "outputs": [],
   "source": [
    "param_grid = {\n",
    "    'loss': ['hinge', 'log','squared_hinge'],\n",
    "    'penalty': ['l2', 'l1',],\n",
    "    'alpha': [.00001,.0001, .001],\n",
    "    'learning_rate': ['constant','optimal','adaptive'],\n",
    "    'eta0':[.0001]\n",
    "}"
   ]
  },
  {
   "cell_type": "code",
   "execution_count": 1003,
   "metadata": {},
   "outputs": [],
   "source": [
    "# instancio modelo con semilla aleatoria fija\n",
    "model = SGDClassifier(random_state=0)\n",
    "model_gscv = GridSearchCV(model,param_grid,scoring='precision',cv=5)"
   ]
  },
  {
   "cell_type": "code",
   "execution_count": 1004,
   "metadata": {},
   "outputs": [
    {
     "data": {
      "text/plain": [
       "GridSearchCV(cv=5, error_score=nan,\n",
       "             estimator=SGDClassifier(alpha=0.0001, average=False,\n",
       "                                     class_weight=None, early_stopping=False,\n",
       "                                     epsilon=0.1, eta0=0.0, fit_intercept=True,\n",
       "                                     l1_ratio=0.15, learning_rate='optimal',\n",
       "                                     loss='hinge', max_iter=1000,\n",
       "                                     n_iter_no_change=5, n_jobs=None,\n",
       "                                     penalty='l2', power_t=0.5, random_state=0,\n",
       "                                     shuffle=True, tol=0.001,\n",
       "                                     validation_fraction=0.1, verbose=0,\n",
       "                                     warm_start=False),\n",
       "             iid='deprecated', n_jobs=None,\n",
       "             param_grid={'alpha': [1e-05, 0.0001, 0.001], 'eta0': [0.0001],\n",
       "                         'learning_rate': ['constant', 'optimal', 'adaptive'],\n",
       "                         'loss': ['hinge', 'log', 'squared_hinge'],\n",
       "                         'penalty': ['l2', 'l1']},\n",
       "             pre_dispatch='2*n_jobs', refit=True, return_train_score=False,\n",
       "             scoring='precision', verbose=0)"
      ]
     },
     "execution_count": 1004,
     "metadata": {},
     "output_type": "execute_result"
    }
   ],
   "source": [
    "model_gscv.fit(X_train_norm,y_train)"
   ]
  },
  {
   "cell_type": "code",
   "execution_count": 1029,
   "metadata": {
    "collapsed": true
   },
   "outputs": [
    {
     "name": "stdout",
     "output_type": "stream",
     "text": [
      "loss|penalty|alpha|max_iter|mean|std|rank\n",
      "hinge|l2|1e-05|constant|0.89|0.03|6\n",
      "hinge|l1|1e-05|constant|0.89|0.03|6\n",
      "log|l2|1e-05|constant|0.81|0.08|26\n",
      "log|l1|1e-05|constant|0.81|0.08|26\n",
      "squared_hinge|l2|1e-05|constant|0.83|0.05|18\n",
      "squared_hinge|l1|1e-05|constant|0.83|0.05|18\n",
      "hinge|l2|1e-05|optimal|0.47|0.16|49\n",
      "hinge|l1|1e-05|optimal|0.63|0.22|46\n",
      "log|l2|1e-05|optimal|0.43|0.12|53\n",
      "log|l1|1e-05|optimal|0.48|0.22|48\n",
      "squared_hinge|l2|1e-05|optimal|0.42|0.11|54\n",
      "squared_hinge|l1|1e-05|optimal|0.43|0.10|52\n",
      "hinge|l2|1e-05|adaptive|0.89|0.03|2\n",
      "hinge|l1|1e-05|adaptive|0.89|0.03|2\n",
      "log|l2|1e-05|adaptive|0.81|0.08|26\n",
      "log|l1|1e-05|adaptive|0.81|0.08|26\n",
      "squared_hinge|l2|1e-05|adaptive|0.83|0.06|13\n",
      "squared_hinge|l1|1e-05|adaptive|0.83|0.06|13\n",
      "hinge|l2|0.0001|constant|0.89|0.03|6\n",
      "hinge|l1|0.0001|constant|0.89|0.03|6\n",
      "log|l2|0.0001|constant|0.81|0.08|26\n",
      "log|l1|0.0001|constant|0.81|0.08|26\n",
      "squared_hinge|l2|0.0001|constant|0.83|0.05|18\n",
      "squared_hinge|l1|0.0001|constant|0.83|0.05|18\n",
      "hinge|l2|0.0001|optimal|0.55|0.17|47\n",
      "hinge|l1|0.0001|optimal|0.63|0.22|45\n",
      "log|l2|0.0001|optimal|0.68|0.11|42\n",
      "log|l1|0.0001|optimal|0.67|0.10|44\n",
      "squared_hinge|l2|0.0001|optimal|0.44|0.07|51\n",
      "squared_hinge|l1|0.0001|optimal|0.46|0.13|50\n",
      "hinge|l2|0.0001|adaptive|0.89|0.03|2\n",
      "hinge|l1|0.0001|adaptive|0.89|0.03|2\n",
      "log|l2|0.0001|adaptive|0.81|0.08|26\n",
      "log|l1|0.0001|adaptive|0.81|0.08|26\n",
      "squared_hinge|l2|0.0001|adaptive|0.83|0.06|13\n",
      "squared_hinge|l1|0.0001|adaptive|0.83|0.06|13\n",
      "hinge|l2|0.001|constant|0.89|0.03|6\n",
      "hinge|l1|0.001|constant|0.88|0.03|12\n",
      "log|l2|0.001|constant|0.81|0.08|26\n",
      "log|l1|0.001|constant|0.81|0.08|36\n",
      "squared_hinge|l2|0.001|constant|0.83|0.05|18\n",
      "squared_hinge|l1|0.001|constant|0.83|0.05|18\n",
      "hinge|l2|0.001|optimal|0.81|0.11|25\n",
      "hinge|l1|0.001|optimal|0.78|0.13|39\n",
      "log|l2|0.001|optimal|0.78|0.09|38\n",
      "log|l1|0.001|optimal|0.76|0.11|40\n",
      "squared_hinge|l2|0.001|optimal|0.67|0.17|43\n",
      "squared_hinge|l1|0.001|optimal|0.73|0.17|41\n",
      "hinge|l2|0.001|adaptive|0.89|0.03|6\n",
      "hinge|l1|0.001|adaptive|0.90|0.05|1\n",
      "log|l2|0.001|adaptive|0.81|0.08|26\n",
      "log|l1|0.001|adaptive|0.81|0.08|36\n",
      "squared_hinge|l2|0.001|adaptive|0.83|0.06|13\n",
      "squared_hinge|l1|0.001|adaptive|0.83|0.05|18\n"
     ]
    }
   ],
   "source": [
    "results = model_gscv.cv_results_\n",
    "params = results['params']\n",
    "mean = results['mean_test_score']\n",
    "std = results['std_test_score']\n",
    "rank = results['rank_test_score']\n",
    "\n",
    "print(\"loss|penalty|alpha|max_iter|mean|std|rank\")\n",
    "for p, m, s, r in zip(params, mean, std, rank):\n",
    "    print(f\"{p['loss']}|{p['penalty']}|{p['alpha']}|{p['learning_rate']}|{m:0.2f}|{s:0.2f}|{r}\")\n"
   ]
  },
  {
   "cell_type": "markdown",
   "metadata": {},
   "source": [
    "**Mejor modelo y parametro segun (scoring='precision')**"
   ]
  },
  {
   "cell_type": "code",
   "execution_count": 1031,
   "metadata": {},
   "outputs": [
    {
     "data": {
      "text/plain": [
       "{'alpha': 0.001,\n",
       " 'eta0': 0.0001,\n",
       " 'learning_rate': 'adaptive',\n",
       " 'loss': 'hinge',\n",
       " 'penalty': 'l1'}"
      ]
     },
     "execution_count": 1031,
     "metadata": {},
     "output_type": "execute_result"
    }
   ],
   "source": [
    "model_gscv.best_params_"
   ]
  },
  {
   "cell_type": "code",
   "execution_count": 1007,
   "metadata": {},
   "outputs": [
    {
     "data": {
      "text/plain": [
       "SGDClassifier(alpha=0.001, average=False, class_weight=None,\n",
       "              early_stopping=False, epsilon=0.1, eta0=0.0001,\n",
       "              fit_intercept=True, l1_ratio=0.15, learning_rate='adaptive',\n",
       "              loss='hinge', max_iter=1000, n_iter_no_change=5, n_jobs=None,\n",
       "              penalty='l1', power_t=0.5, random_state=0, shuffle=True,\n",
       "              tol=0.001, validation_fraction=0.1, verbose=0, warm_start=False)"
      ]
     },
     "execution_count": 1007,
     "metadata": {},
     "output_type": "execute_result"
    }
   ],
   "source": [
    "model_gscv.best_estimator_"
   ]
  },
  {
   "cell_type": "markdown",
   "metadata": {},
   "source": [
    "**Entrenamos el modelo con los mejores parámetro**"
   ]
  },
  {
   "cell_type": "code",
   "execution_count": 1032,
   "metadata": {},
   "outputs": [],
   "source": [
    "model_best = model_gscv.best_estimator_"
   ]
  },
  {
   "cell_type": "code",
   "execution_count": 1033,
   "metadata": {},
   "outputs": [
    {
     "data": {
      "text/plain": [
       "SGDClassifier(alpha=0.001, average=False, class_weight=None,\n",
       "              early_stopping=False, epsilon=0.1, eta0=0.0001,\n",
       "              fit_intercept=True, l1_ratio=0.15, learning_rate='adaptive',\n",
       "              loss='hinge', max_iter=1000, n_iter_no_change=5, n_jobs=None,\n",
       "              penalty='l1', power_t=0.5, random_state=0, shuffle=True,\n",
       "              tol=0.001, validation_fraction=0.1, verbose=0, warm_start=False)"
      ]
     },
     "execution_count": 1033,
     "metadata": {},
     "output_type": "execute_result"
    }
   ],
   "source": [
    "model_best.fit(X_train_norm,y_train)"
   ]
  },
  {
   "cell_type": "markdown",
   "metadata": {},
   "source": [
    "**Obtenemos el valor de las etiquetas de las clases obtenidas con los datos de train**"
   ]
  },
  {
   "cell_type": "code",
   "execution_count": 1034,
   "metadata": {},
   "outputs": [],
   "source": [
    "y_train_pred = model_best.predict(X_train)\n",
    "y_test_pred = model_best.predict(X_test)"
   ]
  },
  {
   "cell_type": "markdown",
   "metadata": {},
   "source": [
    "Creamos variables de metricas de SGDClassifier con hiperparámetros modificados\n"
   ]
  },
  {
   "cell_type": "code",
   "execution_count": 1036,
   "metadata": {},
   "outputs": [],
   "source": [
    "SGDClassifier_hiperparam_train_accuracy_score = 0.0\n",
    "SGDClassifier_hiperparam_train_precision_score = 0.0\n",
    "SGDClassifier_hiperparam_train_recall_score = 0.0\n",
    "SGDClassifier_hiperparam_train_f1_score = 0.0\n",
    "\n",
    "SGDClassifier_hiperparam_test_accuracy_score = 0.0\n",
    "SGDClassifier_hiperparam_test_precision_score = 0.0\n",
    "SGDClassifier_hiperparam_test_recall_score = 0.0\n",
    "SGDClassifier_hiperparam_test_f1_score = 0.0\n"
   ]
  },
  {
   "cell_type": "code",
   "execution_count": 1038,
   "metadata": {},
   "outputs": [],
   "source": [
    "SGDClassifier_hiperparam_train_accuracy_score = accuracy_score(y_train, y_train_pred)\n",
    "SGDClassifier_hiperparam_train_precision_score = precision_score(y_train, y_train_pred)\n",
    "SGDClassifier_hiperparam_train_recall_score = recall_score(y_train, y_train_pred)\n",
    "SGDClassifier_hiperparam_train_f1_score = f1_score(y_train, y_train_pred)\n",
    "\n",
    "SGDClassifier_hiperparam_test_accuracy_score = accuracy_score(y_test, y_test_pred)\n",
    "SGDClassifier_hiperparam_test_precision_score = precision_score(y_test, y_test_pred)\n",
    "SGDClassifier_hiperparam_test_recall_score = recall_score(y_test, y_test_pred)\n",
    "SGDClassifier_hiperparam_test_f1_score = f1_score(y_test, y_test_pred)"
   ]
  },
  {
   "cell_type": "code",
   "execution_count": 1043,
   "metadata": {},
   "outputs": [
    {
     "name": "stdout",
     "output_type": "stream",
     "text": [
      "---- metricas SGDClassifier HIPERPARAMETROS -----\n",
      "=================================================\n",
      "-- train_accuracy_score: 0.6614969656102495 \n",
      "-- test_accuracy_score:  0.6711590296495957 \n",
      "---------------------------------------- \n",
      "-- train_precision_score:0.17060367454068243 \n",
      "-- test_precision_score: 0.15217391304347827 \n",
      "---------------------------------------- \n",
      "-- train_recall_score:   0.2589641434262948 \n",
      "-- test_recall_score:    0.2413793103448276 \n",
      "---------------------------------------- \n",
      "-- train_f1_score:       0.20569620253164558 \n",
      "-- train_f1_score:       0.18666666666666665 \n",
      "-----------------------------------------\n"
     ]
    }
   ],
   "source": [
    "print(\"---- metricas SGDClassifier HIPERPARAMETROS -----\")\n",
    "print(\"=================================================\")\n",
    "print(f\"-- train_accuracy_score: {SGDClassifier_hiperparam_train_accuracy_score} \")\n",
    "print(f\"-- test_accuracy_score:  {SGDClassifier_hiperparam_test_accuracy_score} \")\n",
    "print(\"---------------------------------------- \")\n",
    "\n",
    "print(f\"-- train_precision_score:{SGDClassifier_hiperparam_train_precision_score} \")\n",
    "print(f\"-- test_precision_score: {SGDClassifier_hiperparam_test_precision_score} \")\n",
    "print(\"---------------------------------------- \")\n",
    "\n",
    "print(f\"-- train_recall_score:   {SGDClassifier_hiperparam_train_recall_score} \")\n",
    "print(f\"-- test_recall_score:    {SGDClassifier_hiperparam_test_recall_score} \")\n",
    "print(\"---------------------------------------- \")\n",
    "\n",
    "print(f\"-- train_f1_score:       {SGDClassifier_hiperparam_train_f1_score} \")\n",
    "print(f\"-- train_f1_score:       {SGDClassifier_hiperparam_test_f1_score} \")\n",
    "      \n",
    "print(\"-----------------------------------------\")\n",
    "            \n",
    "      "
   ]
  },
  {
   "cell_type": "markdown",
   "metadata": {},
   "source": [
    "**Matríz de confusión**"
   ]
  },
  {
   "cell_type": "code",
   "execution_count": 1040,
   "metadata": {},
   "outputs": [
    {
     "data": {
      "text/plain": [
       "array([[916, 316],\n",
       "       [186,  65]])"
      ]
     },
     "execution_count": 1040,
     "metadata": {},
     "output_type": "execute_result"
    }
   ],
   "source": [
    "# Matriz de datos de training\n",
    "cmh =confusion_matrix(y_train, y_train_pred)\n",
    "cmh\n"
   ]
  },
  {
   "cell_type": "code",
   "execution_count": 1041,
   "metadata": {},
   "outputs": [
    {
     "data": {
      "text/plain": [
       "array([[235,  78],\n",
       "       [ 44,  14]])"
      ]
     },
     "execution_count": 1041,
     "metadata": {},
     "output_type": "execute_result"
    }
   ],
   "source": [
    "# Matriz de datos de test\n",
    "cmh =confusion_matrix(y_test, y_test_pred)\n",
    "cmh"
   ]
  },
  {
   "cell_type": "markdown",
   "metadata": {},
   "source": [
    "**Comparación entre los dos modelos**"
   ]
  },
  {
   "cell_type": "code",
   "execution_count": 1057,
   "metadata": {},
   "outputs": [
    {
     "name": "stdout",
     "output_type": "stream",
     "text": [
      "---- metricas SGDClassifier HIPERPARAMETROS -----\n",
      "=================================================\n",
      "\n",
      "--------------------------DEFAULT-----------------HIPERPARAMETRO-------- \n",
      "-- train_accuracy_score: 0.8651382333108564       0.6614969656102495 \n",
      "-- test_accuracy_score:  0.8652291105121294       0.6711590296495957 \n",
      "------------------------------------------------------------------------ \n",
      "-- train_precision_score:0.6545454545454545       0.17060367454068243\n",
      "-- test_precision_score: 0.6111111111111112       0.15217391304347827\n",
      "------------------------------------------------------------------------ \n",
      "-- train_recall_score:   0.4302788844621514       0.2589641434262948\n",
      "-- test_recall_score:    0.3793103448275862       0.2413793103448276\n",
      "------------------------------------------------------------------------ \n",
      "-- train_f1_score:       0.20569620253164558      0.20569620253164558\n",
      "-- train_f1_score:       0.18666666666666665      0.18666666666666665\n",
      "------------------------------------------------------------------------ \n"
     ]
    }
   ],
   "source": [
    "print(\"---- metricas COMPARACION------------------------\")\n",
    "print(\"=================================================\")\n",
    "print(\"\")\n",
    "print(\"--------------------------DEFAULT-----------------HIPERPARAMETRO-------- \")\n",
    "print(f\"-- train_accuracy_score: {SGDClassifier_default_train_accuracy_score}       {SGDClassifier_hiperparam_train_accuracy_score} \")\n",
    "print(f\"-- test_accuracy_score:  {SGDClassifier_default_test_accuracy_score}       {SGDClassifier_hiperparam_test_accuracy_score} \")\n",
    "print(\"------------------------------------------------------------------------ \")\n",
    "\n",
    "print(f\"-- train_precision_score:{SGDClassifier_default_train_precision_score}       {SGDClassifier_hiperparam_train_precision_score}\")\n",
    "print(f\"-- test_precision_score: {SGDClassifier_default_test_precision_score}       {SGDClassifier_hiperparam_test_precision_score}\")\n",
    "print(\"------------------------------------------------------------------------ \")\n",
    "\n",
    "print(f\"-- train_recall_score:   {SGDClassifier_default_train_recall_score}       {SGDClassifier_hiperparam_train_recall_score}\")\n",
    "print(f\"-- test_recall_score:    {SGDClassifier_default_test_recall_score}       {SGDClassifier_hiperparam_test_recall_score}\")\n",
    "print(\"------------------------------------------------------------------------ \")\n",
    "\n",
    "print(f\"-- train_f1_score:       {SGDClassifier_hiperparam_train_f1_score}      {SGDClassifier_hiperparam_train_f1_score}\")\n",
    "print(f\"-- train_f1_score:       {SGDClassifier_hiperparam_test_f1_score}      {SGDClassifier_hiperparam_test_f1_score}\")\n",
    "      \n",
    "print(\"------------------------------------------------------------------------ \")\n",
    "            "
   ]
  },
  {
   "cell_type": "markdown",
   "metadata": {},
   "source": [
    "**Reporte de clasificación para datos de test**"
   ]
  },
  {
   "cell_type": "code",
   "execution_count": 1058,
   "metadata": {},
   "outputs": [
    {
     "name": "stdout",
     "output_type": "stream",
     "text": [
      "              precision    recall  f1-score   support\n",
      "\n",
      "           0       0.84      0.75      0.79       313\n",
      "           1       0.15      0.24      0.19        58\n",
      "\n",
      "    accuracy                           0.67       371\n",
      "   macro avg       0.50      0.50      0.49       371\n",
      "weighted avg       0.73      0.67      0.70       371\n",
      "\n"
     ]
    }
   ],
   "source": [
    "print(classification_report(y_test, y_test_pred))"
   ]
  },
  {
   "cell_type": "markdown",
   "metadata": {},
   "source": [
    "**Conclusión**\n",
    "\n",
    "*Como se puede observar en la comparación de los modelos, los valores por defecto del SGDClassifier dieron mejor resultado que los ajustes de los hiperparámetros. El modelo propuesto como mejor el scoring='precision' empeora en cada métrica.*"
   ]
  },
  {
   "cell_type": "markdown",
   "metadata": {},
   "source": [
    "## Ejercicio 3: Árboles de Decisión\n",
    "\n",
    "En este ejercicio se entrenarán árboles de decisión para predecir la variable objetivo.\n",
    "\n",
    "Para ello, deberán utilizar la clase DecisionTreeClassifier de scikit-learn.\n",
    "\n",
    "Documentación:\n",
    "- https://scikit-learn.org/stable/modules/tree.html\n",
    "  - https://scikit-learn.org/stable/modules/tree.html#tips-on-practical-use\n",
    "- https://scikit-learn.org/stable/modules/generated/sklearn.tree.DecisionTreeClassifier.html\n",
    "- https://scikit-learn.org/stable/auto_examples/tree/plot_unveil_tree_structure.html"
   ]
  },
  {
   "cell_type": "markdown",
   "metadata": {},
   "source": [
    "### Ejercicio 3.1: DecisionTreeClassifier con hiperparámetros por defecto\n",
    "\n",
    "Entrenar y evaluar el clasificador DecisionTreeClassifier usando los valores por omisión de scikit-learn para todos los parámetros. Únicamente **fijar la semilla aleatoria** para hacer repetible el experimento.\n",
    "\n",
    "Evaluar sobre el conjunto de **entrenamiento** y sobre el conjunto de **evaluación**, reportando:\n",
    "- Accuracy\n",
    "- Precision\n",
    "- Recall\n",
    "- F1\n",
    "- matriz de confusión\n"
   ]
  },
  {
   "cell_type": "markdown",
   "metadata": {},
   "source": [
    "**Se instancia el modelo DecisionTreeClassifier con valores de hiperparametros default**"
   ]
  },
  {
   "cell_type": "code",
   "execution_count": 1138,
   "metadata": {},
   "outputs": [
    {
     "data": {
      "text/plain": [
       "DecisionTreeClassifier(ccp_alpha=0.0, class_weight=None, criterion='gini',\n",
       "                       max_depth=None, max_features=None, max_leaf_nodes=None,\n",
       "                       min_impurity_decrease=0.0, min_impurity_split=None,\n",
       "                       min_samples_leaf=1, min_samples_split=2,\n",
       "                       min_weight_fraction_leaf=0.0, presort='deprecated',\n",
       "                       random_state=0, splitter='best')"
      ]
     },
     "execution_count": 1138,
     "metadata": {},
     "output_type": "execute_result"
    }
   ],
   "source": [
    "clf = DecisionTreeClassifier(random_state=0)\n",
    "clf.fit(X_train_norm, y_train)"
   ]
  },
  {
   "cell_type": "markdown",
   "metadata": {},
   "source": [
    "obtenemos el valor de las etiquetas de las clases obtenidas con los datos de train"
   ]
  },
  {
   "cell_type": "code",
   "execution_count": 1140,
   "metadata": {},
   "outputs": [],
   "source": [
    "y_train_pred = clf.predict(X_train_norm)\n",
    "y_test_pred = clf.predict(X_test_norm)"
   ]
  },
  {
   "cell_type": "markdown",
   "metadata": {},
   "source": [
    "Creamos variables de metricas de DecisionTreeClassifier con valores default"
   ]
  },
  {
   "cell_type": "code",
   "execution_count": 1142,
   "metadata": {},
   "outputs": [],
   "source": [
    "DecisionTreeClassifier_default_train_accuracy_score = 0.0\n",
    "DecisionTreeClassifier_default_train_precision_score = 0.0\n",
    "DecisionTreeClassifier_default_train_recall_score = 0.0\n",
    "DecisionTreeClassifier_default_train_f1_score = 0.0\n",
    "\n",
    "DecisionTreeClassifier_default_test_accuracy_score = 0.0\n",
    "DecisionTreeClassifier_default_test_precision_score = 0.0\n",
    "DecisionTreeClassifier_default_test_recall_score = 0.0\n",
    "DecisionTreeClassifier_default_test_f1_score = 0.0"
   ]
  },
  {
   "cell_type": "code",
   "execution_count": 1143,
   "metadata": {},
   "outputs": [],
   "source": [
    "DecisionTreeClassifier_default_train_accuracy_score = accuracy_score(y_train, y_train_pred)\n",
    "DecisionTreeClassifier_default_train_precision_score = precision_score(y_train, y_train_pred)\n",
    "DecisionTreeClassifier_default_train_recall_score = recall_score(y_train, y_train_pred)\n",
    "DecisionTreeClassifier_default_train_f1_score = f1_score(y_train, y_train_pred)\n",
    "\n",
    "DecisionTreeClassifier_default_test_accuracy_score = accuracy_score(y_test, y_test_pred)\n",
    "DecisionTreeClassifier_default_test_precision_score = precision_score(y_test, y_test_pred)\n",
    "DecisionTreeClassifier_default_test_recall_score = recall_score(y_test, y_test_pred)\n",
    "DecisionTreeClassifier_default_test_f1_score = f1_score(y_test, y_test_pred)"
   ]
  },
  {
   "cell_type": "code",
   "execution_count": 1144,
   "metadata": {},
   "outputs": [
    {
     "name": "stdout",
     "output_type": "stream",
     "text": [
      "---- metricas DecisionTreeClassifier DEFAULT -----\n",
      "=========================================\n",
      "-- train_accuracy_score: 1.0 \n",
      "-- test_accuracy_score:  0.8814016172506739 \n",
      "---------------------------------------- \n",
      "-- train_precision_score:1.0 \n",
      "-- test_precision_score: 0.6166666666666667 \n",
      "---------------------------------------- \n",
      "-- train_recall_score:   1.0 \n",
      "-- test_recall_score:    0.6379310344827587 \n",
      "---------------------------------------- \n",
      "-- train_f1_score:       1.0 \n",
      "-- train_f1_score:       0.6271186440677966 \n",
      "-----------------------------------------\n"
     ]
    }
   ],
   "source": [
    "print(\"---- metricas DecisionTreeClassifier DEFAULT -----\")\n",
    "print(\"=========================================\")\n",
    "print(f\"-- train_accuracy_score: {DecisionTreeClassifier_default_train_accuracy_score} \")\n",
    "print(f\"-- test_accuracy_score:  {DecisionTreeClassifier_default_test_accuracy_score} \")\n",
    "print(\"---------------------------------------- \")\n",
    "\n",
    "print(f\"-- train_precision_score:{DecisionTreeClassifier_default_train_precision_score} \")\n",
    "print(f\"-- test_precision_score: {DecisionTreeClassifier_default_test_precision_score} \")\n",
    "print(\"---------------------------------------- \")\n",
    "\n",
    "print(f\"-- train_recall_score:   {DecisionTreeClassifier_default_train_recall_score} \")\n",
    "print(f\"-- test_recall_score:    {DecisionTreeClassifier_default_test_recall_score} \")\n",
    "print(\"---------------------------------------- \")\n",
    "\n",
    "print(f\"-- train_f1_score:       {DecisionTreeClassifier_default_train_f1_score} \")\n",
    "print(f\"-- train_f1_score:       {DecisionTreeClassifier_default_test_f1_score} \")\n",
    "      \n",
    "print(\"-----------------------------------------\")\n",
    "            \n",
    "      "
   ]
  },
  {
   "cell_type": "markdown",
   "metadata": {},
   "source": [
    "**Matríz de confusión**"
   ]
  },
  {
   "cell_type": "code",
   "execution_count": 1147,
   "metadata": {},
   "outputs": [
    {
     "data": {
      "text/plain": [
       "array([[1232,    0],\n",
       "       [   0,  251]])"
      ]
     },
     "execution_count": 1147,
     "metadata": {},
     "output_type": "execute_result"
    }
   ],
   "source": [
    "# Matriz de datos de training\n",
    "cm =confusion_matrix(y_train, y_train_pred)\n",
    "cm\n"
   ]
  },
  {
   "cell_type": "code",
   "execution_count": 1148,
   "metadata": {},
   "outputs": [
    {
     "data": {
      "text/plain": [
       "array([[290,  23],\n",
       "       [ 21,  37]])"
      ]
     },
     "execution_count": 1148,
     "metadata": {},
     "output_type": "execute_result"
    }
   ],
   "source": [
    "# Matriz de datos de training\n",
    "cm =confusion_matrix(y_test, y_test_pred)\n",
    "cm\n"
   ]
  },
  {
   "cell_type": "markdown",
   "metadata": {},
   "source": [
    "**Reporte de clasificación para testing**"
   ]
  },
  {
   "cell_type": "code",
   "execution_count": 1150,
   "metadata": {},
   "outputs": [
    {
     "name": "stdout",
     "output_type": "stream",
     "text": [
      "              precision    recall  f1-score   support\n",
      "\n",
      "           0       0.93      0.93      0.93       313\n",
      "           1       0.62      0.64      0.63        58\n",
      "\n",
      "    accuracy                           0.88       371\n",
      "   macro avg       0.77      0.78      0.78       371\n",
      "weighted avg       0.88      0.88      0.88       371\n",
      "\n"
     ]
    }
   ],
   "source": [
    "print(classification_report(y_test, y_test_pred))"
   ]
  },
  {
   "cell_type": "markdown",
   "metadata": {},
   "source": [
    "Gráfico del arbol obtenido en modelo con valores default"
   ]
  },
  {
   "cell_type": "code",
   "execution_count": 1153,
   "metadata": {},
   "outputs": [
    {
     "data": {
      "image/png": "[encoded data removed]",
      "text/plain": [
       "<Figure size 1080x432 with 1 Axes>"
      ]
     },
     "metadata": {
      "needs_background": "light"
     },
     "output_type": "display_data"
    }
   ],
   "source": [
    "plt.figure(figsize=(15,6))\n",
    "plot_tree(clf);"
   ]
  },
  {
   "cell_type": "markdown",
   "metadata": {},
   "source": [
    "El modelo da una presición del 100% en los datos de entranamiento. Por lo que se infiere que se realizó un overfitting"
   ]
  },
  {
   "cell_type": "markdown",
   "metadata": {},
   "source": [
    "### Ejercicio 3.2: Ajuste de Hiperparámetros\n",
    "\n",
    "Seleccionar valores para los hiperparámetros principales del DecisionTreeClassifier. Como mínimo, probar diferentes criterios de partición (criterion), profundidad máxima del árbol (max_depth), y cantidad mínima de samples por hoja (min_samples_leaf).\n",
    "\n",
    "Para ello, usar grid-search y 5-fold cross-validation sobre el conjunto de entrenamiento para explorar muchas combinaciones posibles de valores.\n",
    "\n",
    "Reportar accuracy promedio y varianza para todas las configuraciones.\n",
    "\n",
    "Para la mejor configuración encontrada, evaluar sobre el conjunto de **entrenamiento** y sobre el conjunto de **evaluación**, reportando:\n",
    "- Accuracy\n",
    "- Precision\n",
    "- Recall\n",
    "- F1\n",
    "- matriz de confusión\n",
    "\n",
    "\n",
    "Documentación:\n",
    "- https://scikit-learn.org/stable/modules/grid_search.html\n",
    "- https://scikit-learn.org/stable/modules/generated/sklearn.model_selection.GridSearchCV.html"
   ]
  },
  {
   "cell_type": "markdown",
   "metadata": {},
   "source": [
    "**Definimos la lista de hiperparametros a evaluar**"
   ]
  },
  {
   "cell_type": "code",
   "execution_count": 1154,
   "metadata": {},
   "outputs": [],
   "source": [
    "param_grid = {\n",
    "    'criterion': ['gini', 'entropy', ],\n",
    "    'splitter': ['best', 'random',],\n",
    "    'max_depth': [None,1,3,5,7,9,11,13,15, 17],\n",
    "    'max_features': [None, 'auto', 'sqrt', 'log2'],\n",
    "}"
   ]
  },
  {
   "cell_type": "code",
   "execution_count": 1155,
   "metadata": {},
   "outputs": [],
   "source": [
    "# los datos estan muy desbalanceandos, por lo que se usa un StratifiedKFold para se el cross validation\n",
    "skf = StratifiedKFold(n_splits=5, shuffle=False, random_state=0)\n",
    "\n",
    "# instancio modelo con semilla aleatoria fija\n",
    "model = DecisionTreeClassifier(random_state=0)\n",
    "model_gscv = GridSearchCV(model,param_grid,cv=skf)"
   ]
  },
  {
   "cell_type": "code",
   "execution_count": 1156,
   "metadata": {},
   "outputs": [
    {
     "data": {
      "text/plain": [
       "GridSearchCV(cv=StratifiedKFold(n_splits=5, random_state=0, shuffle=False),\n",
       "             error_score=nan,\n",
       "             estimator=DecisionTreeClassifier(ccp_alpha=0.0, class_weight=None,\n",
       "                                              criterion='gini', max_depth=None,\n",
       "                                              max_features=None,\n",
       "                                              max_leaf_nodes=None,\n",
       "                                              min_impurity_decrease=0.0,\n",
       "                                              min_impurity_split=None,\n",
       "                                              min_samples_leaf=1,\n",
       "                                              min_samples_split=2,\n",
       "                                              min_weight_fraction_leaf=0.0,\n",
       "                                              presort='deprecated',\n",
       "                                              random_state=0, splitter='best'),\n",
       "             iid='deprecated', n_jobs=None,\n",
       "             param_grid={'criterion': ['gini', 'entropy'],\n",
       "                         'max_depth': [None, 1, 3, 5, 7, 9, 11, 13, 15, 17],\n",
       "                         'max_features': [None, 'auto', 'sqrt', 'log2'],\n",
       "                         'splitter': ['best', 'random']},\n",
       "             pre_dispatch='2*n_jobs', refit=True, return_train_score=False,\n",
       "             scoring=None, verbose=0)"
      ]
     },
     "execution_count": 1156,
     "metadata": {},
     "output_type": "execute_result"
    }
   ],
   "source": [
    "model_gscv.fit(X_train_norm, y_train)"
   ]
  },
  {
   "cell_type": "code",
   "execution_count": 1170,
   "metadata": {
    "collapsed": true
   },
   "outputs": [
    {
     "name": "stdout",
     "output_type": "stream",
     "text": [
      "crit.\tdepth\t| mean\tstd\trank\n",
      "gini\tNone\t| 0.85\t0.02\t132\n",
      "gini\tNone\t| 0.87\t0.02\t87\n",
      "gini\tNone\t| 0.86\t0.02\t112\n",
      "gini\tNone\t| 0.84\t0.03\t144\n",
      "gini\tNone\t| 0.86\t0.02\t112\n",
      "gini\tNone\t| 0.84\t0.03\t144\n",
      "gini\tNone\t| 0.86\t0.02\t112\n",
      "gini\tNone\t| 0.84\t0.03\t144\n",
      "gini\t1\t| 0.87\t0.01\t78\n",
      "gini\t1\t| 0.83\t0.01\t159\n",
      "gini\t1\t| 0.87\t0.01\t78\n",
      "gini\t1\t| 0.83\t0.00\t147\n",
      "gini\t1\t| 0.87\t0.01\t78\n",
      "gini\t1\t| 0.83\t0.00\t147\n",
      "gini\t1\t| 0.87\t0.01\t78\n",
      "gini\t1\t| 0.83\t0.00\t147\n",
      "gini\t3\t| 0.88\t0.01\t24\n",
      "gini\t3\t| 0.85\t0.01\t136\n",
      "gini\t3\t| 0.87\t0.01\t50\n",
      "gini\t3\t| 0.83\t0.00\t153\n",
      "gini\t3\t| 0.87\t0.01\t50\n",
      "gini\t3\t| 0.83\t0.00\t153\n",
      "gini\t3\t| 0.87\t0.01\t50\n",
      "gini\t3\t| 0.83\t0.00\t153\n",
      "gini\t5\t| 0.87\t0.01\t46\n",
      "gini\t5\t| 0.87\t0.02\t76\n",
      "gini\t5\t| 0.88\t0.01\t13\n",
      "gini\t5\t| 0.85\t0.00\t138\n",
      "gini\t5\t| 0.88\t0.01\t13\n",
      "gini\t5\t| 0.85\t0.00\t138\n",
      "gini\t5\t| 0.88\t0.01\t13\n",
      "gini\t5\t| 0.85\t0.00\t138\n",
      "gini\t7\t| 0.88\t0.02\t23\n",
      "gini\t7\t| 0.86\t0.02\t107\n",
      "gini\t7\t| 0.87\t0.01\t57\n",
      "gini\t7\t| 0.85\t0.01\t129\n",
      "gini\t7\t| 0.87\t0.01\t57\n",
      "gini\t7\t| 0.85\t0.01\t129\n",
      "gini\t7\t| 0.87\t0.01\t57\n",
      "gini\t7\t| 0.85\t0.01\t129\n",
      "gini\t9\t| 0.88\t0.02\t12\n",
      "gini\t9\t| 0.87\t0.01\t77\n",
      "gini\t9\t| 0.88\t0.02\t9\n",
      "gini\t9\t| 0.86\t0.02\t115\n",
      "gini\t9\t| 0.88\t0.02\t9\n",
      "gini\t9\t| 0.86\t0.02\t115\n",
      "gini\t9\t| 0.88\t0.02\t9\n",
      "gini\t9\t| 0.86\t0.02\t115\n",
      "gini\t11\t| 0.88\t0.02\t29\n",
      "gini\t11\t| 0.89\t0.01\t1\n",
      "gini\t11\t| 0.88\t0.01\t6\n",
      "gini\t11\t| 0.87\t0.01\t97\n",
      "gini\t11\t| 0.88\t0.01\t6\n",
      "gini\t11\t| 0.87\t0.01\t97\n",
      "gini\t11\t| 0.88\t0.01\t6\n",
      "gini\t11\t| 0.87\t0.01\t97\n",
      "gini\t13\t| 0.88\t0.02\t30\n",
      "gini\t13\t| 0.87\t0.01\t70\n",
      "gini\t13\t| 0.87\t0.01\t50\n",
      "gini\t13\t| 0.88\t0.01\t38\n",
      "gini\t13\t| 0.87\t0.01\t50\n",
      "gini\t13\t| 0.88\t0.01\t38\n",
      "gini\t13\t| 0.87\t0.01\t50\n",
      "gini\t13\t| 0.88\t0.01\t38\n",
      "gini\t15\t| 0.87\t0.02\t96\n",
      "gini\t15\t| 0.88\t0.01\t5\n",
      "gini\t15\t| 0.87\t0.02\t71\n",
      "gini\t15\t| 0.88\t0.02\t31\n",
      "gini\t15\t| 0.87\t0.02\t71\n",
      "gini\t15\t| 0.88\t0.02\t31\n",
      "gini\t15\t| 0.87\t0.02\t71\n",
      "gini\t15\t| 0.88\t0.02\t31\n",
      "gini\t17\t| 0.86\t0.02\t118\n",
      "gini\t17\t| 0.87\t0.02\t89\n",
      "gini\t17\t| 0.86\t0.02\t123\n",
      "gini\t17\t| 0.86\t0.01\t126\n",
      "gini\t17\t| 0.86\t0.02\t123\n",
      "gini\t17\t| 0.86\t0.01\t126\n",
      "gini\t17\t| 0.86\t0.02\t123\n",
      "gini\t17\t| 0.86\t0.01\t126\n",
      "entropy\tNone\t| 0.87\t0.01\t75\n",
      "entropy\tNone\t| 0.87\t0.02\t56\n",
      "entropy\tNone\t| 0.87\t0.02\t93\n",
      "entropy\tNone\t| 0.87\t0.02\t101\n",
      "entropy\tNone\t| 0.87\t0.02\t93\n",
      "entropy\tNone\t| 0.87\t0.02\t101\n",
      "entropy\tNone\t| 0.87\t0.02\t93\n",
      "entropy\tNone\t| 0.87\t0.02\t101\n",
      "entropy\t1\t| 0.87\t0.01\t78\n",
      "entropy\t1\t| 0.83\t0.01\t159\n",
      "entropy\t1\t| 0.87\t0.01\t78\n",
      "entropy\t1\t| 0.83\t0.00\t147\n",
      "entropy\t1\t| 0.87\t0.01\t78\n",
      "entropy\t1\t| 0.83\t0.00\t147\n",
      "entropy\t1\t| 0.87\t0.01\t78\n",
      "entropy\t1\t| 0.83\t0.00\t147\n",
      "entropy\t3\t| 0.87\t0.01\t57\n",
      "entropy\t3\t| 0.85\t0.01\t137\n",
      "entropy\t3\t| 0.87\t0.01\t67\n",
      "entropy\t3\t| 0.83\t0.00\t153\n",
      "entropy\t3\t| 0.87\t0.01\t67\n",
      "entropy\t3\t| 0.83\t0.00\t153\n",
      "entropy\t3\t| 0.87\t0.01\t67\n",
      "entropy\t3\t| 0.83\t0.00\t153\n",
      "entropy\t5\t| 0.88\t0.01\t37\n",
      "entropy\t5\t| 0.87\t0.01\t86\n",
      "entropy\t5\t| 0.88\t0.01\t19\n",
      "entropy\t5\t| 0.85\t0.00\t141\n",
      "entropy\t5\t| 0.88\t0.01\t19\n",
      "entropy\t5\t| 0.85\t0.00\t141\n",
      "entropy\t5\t| 0.88\t0.01\t19\n",
      "entropy\t5\t| 0.85\t0.00\t141\n",
      "entropy\t7\t| 0.87\t0.01\t74\n",
      "entropy\t7\t| 0.86\t0.01\t108\n",
      "entropy\t7\t| 0.88\t0.01\t42\n",
      "entropy\t7\t| 0.85\t0.01\t133\n",
      "entropy\t7\t| 0.88\t0.01\t42\n",
      "entropy\t7\t| 0.85\t0.01\t133\n",
      "entropy\t7\t| 0.88\t0.01\t42\n",
      "entropy\t7\t| 0.85\t0.01\t133\n",
      "entropy\t9\t| 0.86\t0.02\t119\n",
      "entropy\t9\t| 0.87\t0.01\t61\n",
      "entropy\t9\t| 0.88\t0.02\t16\n",
      "entropy\t9\t| 0.86\t0.01\t109\n",
      "entropy\t9\t| 0.88\t0.02\t16\n",
      "entropy\t9\t| 0.86\t0.01\t109\n",
      "entropy\t9\t| 0.88\t0.02\t16\n",
      "entropy\t9\t| 0.86\t0.01\t109\n",
      "entropy\t11\t| 0.87\t0.02\t66\n",
      "entropy\t11\t| 0.88\t0.01\t45\n",
      "entropy\t11\t| 0.88\t0.02\t2\n",
      "entropy\t11\t| 0.86\t0.01\t120\n",
      "entropy\t11\t| 0.88\t0.02\t2\n",
      "entropy\t11\t| 0.86\t0.01\t120\n",
      "entropy\t11\t| 0.88\t0.02\t2\n",
      "entropy\t11\t| 0.86\t0.01\t120\n",
      "entropy\t13\t| 0.87\t0.01\t100\n",
      "entropy\t13\t| 0.88\t0.02\t22\n",
      "entropy\t13\t| 0.88\t0.02\t34\n",
      "entropy\t13\t| 0.86\t0.01\t104\n",
      "entropy\t13\t| 0.88\t0.02\t34\n",
      "entropy\t13\t| 0.86\t0.01\t104\n",
      "entropy\t13\t| 0.88\t0.02\t34\n",
      "entropy\t13\t| 0.86\t0.01\t104\n",
      "entropy\t15\t| 0.87\t0.01\t88\n",
      "entropy\t15\t| 0.88\t0.02\t28\n",
      "entropy\t15\t| 0.87\t0.02\t62\n",
      "entropy\t15\t| 0.88\t0.01\t24\n",
      "entropy\t15\t| 0.87\t0.02\t62\n",
      "entropy\t15\t| 0.88\t0.01\t24\n",
      "entropy\t15\t| 0.87\t0.02\t62\n",
      "entropy\t15\t| 0.88\t0.01\t24\n",
      "entropy\t17\t| 0.87\t0.01\t65\n",
      "entropy\t17\t| 0.88\t0.02\t41\n",
      "entropy\t17\t| 0.87\t0.02\t47\n",
      "entropy\t17\t| 0.87\t0.02\t90\n",
      "entropy\t17\t| 0.87\t0.02\t47\n",
      "entropy\t17\t| 0.87\t0.02\t90\n",
      "entropy\t17\t| 0.87\t0.02\t47\n",
      "entropy\t17\t| 0.87\t0.02\t90\n"
     ]
    }
   ],
   "source": [
    "results = model_gscv.cv_results_\n",
    "params = results['params']\n",
    "mean = results['mean_test_score']\n",
    "std = results['std_test_score']\n",
    "rank = results['rank_test_score']\n",
    "\n",
    "print(\"crit.\\tdepth\\t| mean\\tstd\\trank\")\n",
    "for p, m, s, r in zip(params, mean, std, rank):\n",
    "    print(f\"{p['criterion']}\\t{p['max_depth']}\\t| {m:0.2f}\\t{s:0.2f}\\t{r}\")"
   ]
  },
  {
   "cell_type": "markdown",
   "metadata": {},
   "source": [
    "**Mejor modelo y parametro**"
   ]
  },
  {
   "cell_type": "code",
   "execution_count": 1163,
   "metadata": {
    "scrolled": true
   },
   "outputs": [
    {
     "data": {
      "text/plain": [
       "{'criterion': 'gini',\n",
       " 'max_depth': 11,\n",
       " 'max_features': None,\n",
       " 'splitter': 'random'}"
      ]
     },
     "execution_count": 1163,
     "metadata": {},
     "output_type": "execute_result"
    }
   ],
   "source": [
    "model_gscv.best_params_"
   ]
  },
  {
   "cell_type": "code",
   "execution_count": 1164,
   "metadata": {},
   "outputs": [
    {
     "data": {
      "text/plain": [
       "DecisionTreeClassifier(ccp_alpha=0.0, class_weight=None, criterion='gini',\n",
       "                       max_depth=11, max_features=None, max_leaf_nodes=None,\n",
       "                       min_impurity_decrease=0.0, min_impurity_split=None,\n",
       "                       min_samples_leaf=1, min_samples_split=2,\n",
       "                       min_weight_fraction_leaf=0.0, presort='deprecated',\n",
       "                       random_state=0, splitter='random')"
      ]
     },
     "execution_count": 1164,
     "metadata": {},
     "output_type": "execute_result"
    }
   ],
   "source": [
    "model_gscv.best_estimator_"
   ]
  },
  {
   "cell_type": "code",
   "execution_count": 1165,
   "metadata": {},
   "outputs": [],
   "source": [
    "best_model = model_gscv.best_estimator_"
   ]
  },
  {
   "cell_type": "markdown",
   "metadata": {},
   "source": [
    "Obtenemos el valor de las etiquetas de las clases obtenidas con los datos de train"
   ]
  },
  {
   "cell_type": "code",
   "execution_count": 1166,
   "metadata": {},
   "outputs": [],
   "source": [
    "y_train_pred = best_model.predict(X_train_norm)\n",
    "y_test_pred = best_model.predict(X_test_norm)"
   ]
  },
  {
   "cell_type": "markdown",
   "metadata": {},
   "source": [
    "Creamos variables de metricas de DecisionTreeClassifier con valores default"
   ]
  },
  {
   "cell_type": "code",
   "execution_count": 1167,
   "metadata": {},
   "outputs": [],
   "source": [
    "DecisionTreeClassifier_hiperparam_train_accuracy_score = 0.0\n",
    "DecisionTreeClassifier_hiperparam_train_precision_score = 0.0\n",
    "DecisionTreeClassifier_hiperparam_train_recall_score = 0.0\n",
    "DecisionTreeClassifier_hiperparam_train_f1_score = 0.0\n",
    "\n",
    "DecisionTreeClassifier_hiperparam_test_accuracy_score = 0.0\n",
    "DecisionTreeClassifier_hiperparam_test_precision_score = 0.0\n",
    "DecisionTreeClassifier_hiperparam_test_recall_score = 0.0\n",
    "DecisionTreeClassifier_hiperparam_test_f1_score = 0.0"
   ]
  },
  {
   "cell_type": "code",
   "execution_count": 1168,
   "metadata": {},
   "outputs": [],
   "source": [
    "DecisionTreeClassifier_hiperparam_train_accuracy_score = accuracy_score(y_train, y_train_pred)\n",
    "DecisionTreeClassifier_hiperparam_train_precision_score = precision_score(y_train, y_train_pred)\n",
    "DecisionTreeClassifier_hiperparam_train_recall_score = recall_score(y_train, y_train_pred)\n",
    "DecisionTreeClassifier_hiperparam_train_f1_score = f1_score(y_train, y_train_pred)\n",
    "\n",
    "DecisionTreeClassifier_hiperparam_test_accuracy_score = accuracy_score(y_test, y_test_pred)\n",
    "DecisionTreeClassifier_hiperparam_test_precision_score = precision_score(y_test, y_test_pred)\n",
    "DecisionTreeClassifier_hiperparam_test_recall_score = recall_score(y_test, y_test_pred)\n",
    "DecisionTreeClassifier_hiperparam_test_f1_score = f1_score(y_test, y_test_pred)"
   ]
  },
  {
   "cell_type": "code",
   "execution_count": 1169,
   "metadata": {},
   "outputs": [
    {
     "name": "stdout",
     "output_type": "stream",
     "text": [
      "---- metricas DecisionTreeClassifier HIPERPARAMETROS -----\n",
      "==========================================================\n",
      "-- train_accuracy_score: 0.9325691166554282 \n",
      "-- test_accuracy_score:  0.9029649595687331 \n",
      "---------------------------------------- \n",
      "-- train_precision_score:0.9748427672955975\n",
      "-- test_precision_score: 0.8666666666666667 \n",
      "---------------------------------------- \n",
      "-- train_recall_score:   0.6175298804780877 \n",
      "-- test_recall_score:    0.4482758620689655 \n",
      "---------------------------------------- \n",
      "-- train_f1_score:       0.7560975609756098 \n",
      "-- train_f1_score:       0.5909090909090909 \n",
      "-----------------------------------------\n"
     ]
    }
   ],
   "source": [
    "print(\"---- metricas DecisionTreeClassifier HIPERPARAMETROS -----\")\n",
    "print(\"==========================================================\")\n",
    "print(f\"-- train_accuracy_score: {DecisionTreeClassifier_hiperparam_train_accuracy_score} \")\n",
    "print(f\"-- test_accuracy_score:  {DecisionTreeClassifier_hiperparam_test_accuracy_score} \")\n",
    "print(\"---------------------------------------- \")\n",
    "\n",
    "print(f\"-- train_precision_score:{DecisionTreeClassifier_hiperparam_train_precision_score}\")\n",
    "print(f\"-- test_precision_score: {DecisionTreeClassifier_hiperparam_test_precision_score} \")\n",
    "print(\"---------------------------------------- \")\n",
    "\n",
    "print(f\"-- train_recall_score:   {DecisionTreeClassifier_hiperparam_train_recall_score} \")\n",
    "print(f\"-- test_recall_score:    {DecisionTreeClassifier_hiperparam_test_recall_score} \")\n",
    "print(\"---------------------------------------- \")\n",
    "\n",
    "print(f\"-- train_f1_score:       {DecisionTreeClassifier_hiperparam_train_f1_score} \")\n",
    "print(f\"-- train_f1_score:       {DecisionTreeClassifier_hiperparam_test_f1_score} \")\n",
    "      \n",
    "print(\"-----------------------------------------\")"
   ]
  },
  {
   "cell_type": "markdown",
   "metadata": {},
   "source": [
    "**Matríz de confusión**"
   ]
  },
  {
   "cell_type": "code",
   "execution_count": 1172,
   "metadata": {},
   "outputs": [
    {
     "data": {
      "text/plain": [
       "array([[1228,    4],\n",
       "       [  96,  155]])"
      ]
     },
     "execution_count": 1172,
     "metadata": {},
     "output_type": "execute_result"
    }
   ],
   "source": [
    "# Matriz de datos de training\n",
    "cm =confusion_matrix(y_train, y_train_pred)\n",
    "cm\n"
   ]
  },
  {
   "cell_type": "code",
   "execution_count": 1173,
   "metadata": {},
   "outputs": [
    {
     "data": {
      "text/plain": [
       "array([[309,   4],\n",
       "       [ 32,  26]])"
      ]
     },
     "execution_count": 1173,
     "metadata": {},
     "output_type": "execute_result"
    }
   ],
   "source": [
    "# Matriz de datos de training\n",
    "cm =confusion_matrix(y_test, y_test_pred)\n",
    "cm"
   ]
  },
  {
   "cell_type": "markdown",
   "metadata": {},
   "source": [
    "**Reporte de clasificación para datos de test**"
   ]
  },
  {
   "cell_type": "code",
   "execution_count": 1175,
   "metadata": {},
   "outputs": [
    {
     "name": "stdout",
     "output_type": "stream",
     "text": [
      "              precision    recall  f1-score   support\n",
      "\n",
      "           0       0.91      0.99      0.94       313\n",
      "           1       0.87      0.45      0.59        58\n",
      "\n",
      "    accuracy                           0.90       371\n",
      "   macro avg       0.89      0.72      0.77       371\n",
      "weighted avg       0.90      0.90      0.89       371\n",
      "\n"
     ]
    }
   ],
   "source": [
    "print(classification_report(y_test, y_test_pred))"
   ]
  },
  {
   "cell_type": "markdown",
   "metadata": {},
   "source": [
    "**Gráfico de arbol obtenido**"
   ]
  },
  {
   "cell_type": "code",
   "execution_count": 1178,
   "metadata": {},
   "outputs": [
    {
     "data": {
      "image/png": "[encoded data removed]",
      "text/plain": [
       "<Figure size 1080x1080 with 1 Axes>"
      ]
     },
     "metadata": {
      "needs_background": "light"
     },
     "output_type": "display_data"
    }
   ],
   "source": [
    "plt.figure(figsize=(15,15))\n",
    "plot_tree(model_clf);"
   ]
  },
  {
   "cell_type": "markdown",
   "metadata": {},
   "source": [
    "**Comparación de modelos**"
   ]
  },
  {
   "cell_type": "code",
   "execution_count": 1201,
   "metadata": {},
   "outputs": [
    {
     "name": "stdout",
     "output_type": "stream",
     "text": [
      "---- metricas COMPARACION------------------------\n",
      "=================================================\n",
      "\n",
      "--------------------------DEFAULT-----------------HIPERPARAMETRO-------- \n",
      "-- train_accuracy_score: 1.0                   0.9325691166554282 \n",
      "-- test_accuracy_score:  0.8814016172506739    0.9029649595687331 \n",
      "------------------------------------------------------------------------ \n",
      "-- train_precision_score:1.0                   0.9748427672955975\n",
      "-- test_precision_score: 0.6166666666666667    0.8666666666666667\n",
      "------------------------------------------------------------------------ \n",
      "-- train_recall_score:   1.0                   0.6175298804780877\n",
      "-- test_recall_score:    0.6379310344827587    0.4482758620689655\n",
      "------------------------------------------------------------------------ \n",
      "-- train_f1_score:       1.0                   0.7560975609756098\n",
      "-- train_f1_score:       0.6271186440677966    0.5909090909090909\n",
      "------------------------------------------------------------------------ \n"
     ]
    }
   ],
   "source": [
    "print(\"---- metricas COMPARACION------------------------\")\n",
    "print(\"=================================================\")\n",
    "print(\"\")\n",
    "print(\"--------------------------DEFAULT-----------------HIPERPARAMETRO-------- \")\n",
    "print(f\"-- train_accuracy_score: {DecisionTreeClassifier_default_train_accuracy_score}                   {DecisionTreeClassifier_hiperparam_train_accuracy_score} \")\n",
    "print(f\"-- test_accuracy_score:  {DecisionTreeClassifier_default_test_accuracy_score}    {DecisionTreeClassifier_hiperparam_test_accuracy_score} \")\n",
    "print(\"------------------------------------------------------------------------ \")\n",
    "\n",
    "print(f\"-- train_precision_score:{DecisionTreeClassifier_default_train_precision_score}                   {DecisionTreeClassifier_hiperparam_train_precision_score}\")\n",
    "print(f\"-- test_precision_score: {DecisionTreeClassifier_default_test_precision_score}    {DecisionTreeClassifier_hiperparam_test_precision_score}\")\n",
    "print(\"------------------------------------------------------------------------ \")\n",
    "\n",
    "print(f\"-- train_recall_score:   {DecisionTreeClassifier_default_train_recall_score}                   {DecisionTreeClassifier_hiperparam_train_recall_score}\")\n",
    "print(f\"-- test_recall_score:    {DecisionTreeClassifier_default_test_recall_score}    {DecisionTreeClassifier_hiperparam_test_recall_score}\")\n",
    "print(\"------------------------------------------------------------------------ \")\n",
    "\n",
    "print(f\"-- train_f1_score:       {DecisionTreeClassifier_default_train_f1_score}                   {DecisionTreeClassifier_hiperparam_train_f1_score}\")\n",
    "print(f\"-- train_f1_score:       {DecisionTreeClassifier_default_test_f1_score}    {DecisionTreeClassifier_hiperparam_test_f1_score}\")\n",
    "      \n",
    "print(\"------------------------------------------------------------------------ \")\n",
    "            "
   ]
  },
  {
   "cell_type": "markdown",
   "metadata": {},
   "source": [
    "**Conclusión**\n",
    "\n",
    "*Comparando los modelos obetenidos por el arbol de desición, los ajustes a los hiperparámetros obtuvieron mejores resultados que los valores por defecto.\n",
    "Con los valores por defecto, se ve que hay un overfitting teniendo 100% de presición en los datos de entrenamiento. Con el modelo propuesto por la búsqueda de mejores hiperparámetros se observa una mejor generalizción en el clasificador.*\n",
    "\n",
    "*Por los valores indicados en las métricas el modelo de clasificación de arbol de desición (DecisionTreeClassifier)  ofrece mejores resultados que un clasificador por gradiente (SGDClassifier).*\n",
    "\n",
    "\n"
   ]
  }
 ],
 "metadata": {
  "kernelspec": {
   "display_name": "Python 3",
   "language": "python",
   "name": "python3"
  },
  "language_info": {
   "codemirror_mode": {
    "name": "ipython",
    "version": 3
   },
   "file_extension": ".py",
   "mimetype": "text/x-python",
   "name": "python",
   "nbconvert_exporter": "python",
   "pygments_lexer": "ipython3",
   "version": "3.7.6"
  }
 },
 "nbformat": 4,
 "nbformat_minor": 4
}
